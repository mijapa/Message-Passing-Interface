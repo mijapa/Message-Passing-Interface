{
 "cells": [
  {
   "cell_type": "code",
   "execution_count": 102,
   "metadata": {},
   "outputs": [
    {
     "name": "stdout",
     "output_type": "stream",
     "text": [
      "['n', 's', 'pi']\n"
     ]
    }
   ],
   "source": [
    "import pandas as pd\n",
    "import csv\n",
    "\n",
    "df = pd.read_csv('./cmake-build-debug/pi_reduce_times.csv', header=0)\n",
    "# df.columns = df.iloc[0]                                 # Set new column names\n",
    "# df.drop(0,inplace=True)\n",
    "original_headers = list(df.columns.values)\n",
    "print(original_headers)"
   ]
  },
  {
   "cell_type": "code",
   "execution_count": 105,
   "metadata": {},
   "outputs": [
    {
     "data": {
      "text/html": [
       "<div>\n",
       "<style scoped>\n",
       "    .dataframe tbody tr th:only-of-type {\n",
       "        vertical-align: middle;\n",
       "    }\n",
       "\n",
       "    .dataframe tbody tr th {\n",
       "        vertical-align: top;\n",
       "    }\n",
       "\n",
       "    .dataframe thead th {\n",
       "        text-align: right;\n",
       "    }\n",
       "</style>\n",
       "<table border=\"1\" class=\"dataframe\">\n",
       "  <thead>\n",
       "    <tr style=\"text-align: right;\">\n",
       "      <th></th>\n",
       "      <th>n</th>\n",
       "      <th>s</th>\n",
       "      <th>pi</th>\n",
       "    </tr>\n",
       "  </thead>\n",
       "  <tbody>\n",
       "    <tr>\n",
       "      <td>1</td>\n",
       "      <td>1</td>\n",
       "      <td>12.88460</td>\n",
       "      <td>3.14142</td>\n",
       "    </tr>\n",
       "    <tr>\n",
       "      <td>2</td>\n",
       "      <td>2</td>\n",
       "      <td>6.67021</td>\n",
       "      <td>3.14187</td>\n",
       "    </tr>\n",
       "    <tr>\n",
       "      <td>3</td>\n",
       "      <td>3</td>\n",
       "      <td>4.39298</td>\n",
       "      <td>3.14182</td>\n",
       "    </tr>\n",
       "    <tr>\n",
       "      <td>4</td>\n",
       "      <td>4</td>\n",
       "      <td>3.53217</td>\n",
       "      <td>3.14165</td>\n",
       "    </tr>\n",
       "    <tr>\n",
       "      <td>5</td>\n",
       "      <td>5</td>\n",
       "      <td>3.44801</td>\n",
       "      <td>3.14153</td>\n",
       "    </tr>\n",
       "    <tr>\n",
       "      <td>6</td>\n",
       "      <td>6</td>\n",
       "      <td>2.40794</td>\n",
       "      <td>3.14065</td>\n",
       "    </tr>\n",
       "    <tr>\n",
       "      <td>7</td>\n",
       "      <td>7</td>\n",
       "      <td>2.10545</td>\n",
       "      <td>3.14209</td>\n",
       "    </tr>\n",
       "    <tr>\n",
       "      <td>8</td>\n",
       "      <td>8</td>\n",
       "      <td>1.68643</td>\n",
       "      <td>3.14261</td>\n",
       "    </tr>\n",
       "    <tr>\n",
       "      <td>9</td>\n",
       "      <td>9</td>\n",
       "      <td>1.70667</td>\n",
       "      <td>3.14114</td>\n",
       "    </tr>\n",
       "    <tr>\n",
       "      <td>10</td>\n",
       "      <td>10</td>\n",
       "      <td>1.84640</td>\n",
       "      <td>3.14131</td>\n",
       "    </tr>\n",
       "    <tr>\n",
       "      <td>11</td>\n",
       "      <td>11</td>\n",
       "      <td>1.78340</td>\n",
       "      <td>3.14286</td>\n",
       "    </tr>\n",
       "    <tr>\n",
       "      <td>12</td>\n",
       "      <td>12</td>\n",
       "      <td>1.23366</td>\n",
       "      <td>3.14124</td>\n",
       "    </tr>\n",
       "  </tbody>\n",
       "</table>\n",
       "</div>"
      ],
      "text/plain": [
       "     n         s       pi\n",
       "1    1  12.88460  3.14142\n",
       "2    2   6.67021  3.14187\n",
       "3    3   4.39298  3.14182\n",
       "4    4   3.53217  3.14165\n",
       "5    5   3.44801  3.14153\n",
       "6    6   2.40794  3.14065\n",
       "7    7   2.10545  3.14209\n",
       "8    8   1.68643  3.14261\n",
       "9    9   1.70667  3.14114\n",
       "10  10   1.84640  3.14131\n",
       "11  11   1.78340  3.14286\n",
       "12  12   1.23366  3.14124"
      ]
     },
     "execution_count": 105,
     "metadata": {},
     "output_type": "execute_result"
    }
   ],
   "source": [
    "df.index += 1 \n",
    "df"
   ]
  },
  {
   "cell_type": "code",
   "execution_count": 106,
   "metadata": {},
   "outputs": [
    {
     "data": {
      "image/png": "[encoded data removed]",
      "text/plain": [
       "<Figure size 432x288 with 1 Axes>"
      ]
     },
     "metadata": {
      "needs_background": "light"
     },
     "output_type": "display_data"
    }
   ],
   "source": [
    "%matplotlib inline\n",
    "import matplotlib.pyplot as plt\n",
    "\n",
    "p = df['s'].plot(legend=False,kind=\"bar\",rot=45,color=\"blue\",fontsize=16);\n",
    "p.set_title(\"Computation time\", fontsize=18);\n",
    "p.set_xlabel(\"Time [s]\", fontsize=18);\n",
    "p.set_ylabel(\"Number of processors\", fontsize=18);"
   ]
  },
  {
   "cell_type": "code",
   "execution_count": 108,
   "metadata": {},
   "outputs": [
    {
     "data": {
      "image/png": "[encoded data removed]",
      "text/plain": [
       "<Figure size 432x288 with 1 Axes>"
      ]
     },
     "metadata": {
      "needs_background": "light"
     },
     "output_type": "display_data"
    }
   ],
   "source": [
    "%matplotlib inline\n",
    "import matplotlib.pyplot as plt\n",
    "import math\n",
    "\n",
    "p = df['pi'].plot(legend=False,kind=\"bar\",rot=45,color=\"green\",fontsize=16);\n",
    "p.plot([-1, 12], [math.pi, math.pi], 'k-', lw=1,dashes=[2, 2])\n",
    "p.set_title(\"Pi\", fontsize=18);\n",
    "p.set_xlabel(\"Value\", fontsize=18);\n",
    "p.set_ylabel(\"Number of processors\", fontsize=18);\n",
    "p.set_ylim(3.140,3.143);"
   ]
  },
  {
   "cell_type": "code",
   "execution_count": null,
   "metadata": {},
   "outputs": [],
   "source": []
  }
 ],
 "metadata": {
  "kernelspec": {
   "display_name": "Python 3",
   "language": "python",
   "name": "python3"
  },
  "language_info": {
   "codemirror_mode": {
    "name": "ipython",
    "version": 3
   },
   "file_extension": ".py",
   "mimetype": "text/x-python",
   "name": "python",
   "nbconvert_exporter": "python",
   "pygments_lexer": "ipython3",
   "version": "3.7.4"
  }
 },
 "nbformat": 4,
 "nbformat_minor": 2
}
